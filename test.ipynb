{
 "cells": [
  {
   "cell_type": "code",
   "execution_count": null,
   "metadata": {},
   "outputs": [],
   "source": [
    "# import packages"
   ]
  },
  {
   "cell_type": "code",
   "execution_count": 2,
   "metadata": {},
   "outputs": [],
   "source": [
    "#OOP\n",
    "\n",
    "# select mode\n",
    "\n",
    "# human vs human\n",
    "# human vs computer (my algo)\n",
    "\n",
    "# classes: grid, algorithm, game\n",
    "\n",
    "## grid: draw gride, draw \"O\" and \"X\" with grade, receive input from game class\n",
    "\n",
    "## alogrithm, play as AI, get input from game clas, generate output to game class\n",
    "\n",
    "## game, memory for the game, control the game?\n",
    "\n",
    "\n",
    "\n",
    "\n"
   ]
  },
  {
   "cell_type": "code",
   "execution_count": 8,
   "metadata": {},
   "outputs": [],
   "source": [
    "import tkinter as tk"
   ]
  },
  {
   "cell_type": "code",
   "execution_count": 10,
   "metadata": {},
   "outputs": [
    {
     "name": "stdout",
     "output_type": "stream",
     "text": [
      " -------- -------- --------\n",
      "|        |        |        |        \n",
      "|        |        |        |        \n",
      "|        |        |        |        \n",
      " -------- -------- --------\n",
      "|        |        |        |        \n",
      "|        |        |        |        \n",
      "|        |        |        |        \n",
      " -------- -------- --------\n",
      "|        |        |        |        \n",
      "|        |        |        |        \n",
      "|        |        |        |        \n",
      " -------- -------- --------\n"
     ]
    }
   ],
   "source": [
    "def draw_tic_tac_toe_grid():\n",
    "    for i in range(3):\n",
    "        print(\" --------\" * 3)\n",
    "        print(\"|        \" * 4)\n",
    "        print(\"|        \" * 4)\n",
    "        print(\"|        \" * 4)\n",
    "    print(\" --------\" * 3)\n",
    "\n",
    "draw_tic_tac_toe_grid()"
   ]
  },
  {
   "cell_type": "code",
   "execution_count": 4,
   "metadata": {},
   "outputs": [
    {
     "name": "stdout",
     "output_type": "stream",
     "text": [
      "    0   1   2\n",
      "   --- --- ---\n",
      "0 |   |   |   |\n",
      "   --- --- ---\n",
      "1 |   |   |   |\n",
      "   --- --- ---\n",
      "2 |   |   |   |\n",
      "   --- --- ---\n"
     ]
    }
   ],
   "source": [
    "def draw_tic_tac_toe_grid():\n",
    "    print(\"    0   1   2\")\n",
    "    print(\"  \" + \" ---\" * 3)\n",
    "    for i in range(3):\n",
    "        row = \"{} |\".format(i) + \"   |\" * 2 + \"   |\"\n",
    "        print(row)\n",
    "        if i < 2:\n",
    "            print(\"  \" + \" ---\" * 3)\n",
    "    print(\"  \" + \" ---\" * 3)\n",
    "\n",
    "draw_tic_tac_toe_grid()\n"
   ]
  },
  {
   "cell_type": "code",
   "execution_count": 11,
   "metadata": {},
   "outputs": [
    {
     "name": "stdout",
     "output_type": "stream",
     "text": [
      "    0   1   2\n",
      "   --- --- ---\n",
      "0 |   |   |   |\n",
      "   --- --- ---\n",
      "1 |   |   |   |\n",
      "   --- --- ---\n",
      "2 |   |   |   |\n",
      "   --- --- ---\n",
      "Player X, make your move:\n",
      "    0   1   2\n",
      "   --- --- ---\n",
      "0 |   | X |   |\n",
      "   --- --- ---\n",
      "1 |   |   |   |\n",
      "   --- --- ---\n",
      "2 |   |   |   |\n",
      "   --- --- ---\n",
      "Player O, make your move:\n",
      "    0   1   2\n",
      "   --- --- ---\n",
      "0 |   | X |   |\n",
      "   --- --- ---\n",
      "1 |   |   |   |\n",
      "   --- --- ---\n",
      "2 |   |   | O |\n",
      "   --- --- ---\n",
      "Player X, make your move:\n",
      "Invalid input. Please enter row and column as comma separated integers.\n",
      "    0   1   2\n",
      "   --- --- ---\n",
      "0 |   | X |   |\n",
      "   --- --- ---\n",
      "1 |   |   |   |\n",
      "   --- --- ---\n",
      "2 |   |   | O |\n",
      "   --- --- ---\n",
      "Player X, make your move:\n",
      "Invalid input. Please enter row and column as comma separated integers.\n",
      "    0   1   2\n",
      "   --- --- ---\n",
      "0 |   | X |   |\n",
      "   --- --- ---\n",
      "1 |   |   |   |\n",
      "   --- --- ---\n",
      "2 |   |   | O |\n",
      "   --- --- ---\n",
      "Player X, make your move:\n",
      "Invalid input. Please enter row and column as comma separated integers.\n",
      "    0   1   2\n",
      "   --- --- ---\n",
      "0 |   | X |   |\n",
      "   --- --- ---\n",
      "1 |   |   |   |\n",
      "   --- --- ---\n",
      "2 |   |   | O |\n",
      "   --- --- ---\n",
      "Player X, make your move:\n",
      "Invalid input. Please enter row and column as comma separated integers.\n",
      "    0   1   2\n",
      "   --- --- ---\n",
      "0 |   | X |   |\n",
      "   --- --- ---\n",
      "1 |   |   |   |\n",
      "   --- --- ---\n",
      "2 |   |   | O |\n",
      "   --- --- ---\n",
      "Player X, make your move:\n",
      "    0   1   2\n",
      "   --- --- ---\n",
      "0 |   | X |   |\n",
      "   --- --- ---\n",
      "1 |   | X |   |\n",
      "   --- --- ---\n",
      "2 |   |   | O |\n",
      "   --- --- ---\n",
      "Player O, make your move:\n",
      "Invalid input. Please enter row and column as comma separated integers.\n",
      "    0   1   2\n",
      "   --- --- ---\n",
      "0 |   | X |   |\n",
      "   --- --- ---\n",
      "1 |   | X |   |\n",
      "   --- --- ---\n",
      "2 |   |   | O |\n",
      "   --- --- ---\n",
      "Player O, make your move:\n",
      "Invalid input. Please enter row and column as comma separated integers.\n",
      "    0   1   2\n",
      "   --- --- ---\n",
      "0 |   | X |   |\n",
      "   --- --- ---\n",
      "1 |   | X |   |\n",
      "   --- --- ---\n",
      "2 |   |   | O |\n",
      "   --- --- ---\n",
      "Player O, make your move:\n",
      "Invalid input. Please enter row and column as comma separated integers.\n",
      "    0   1   2\n",
      "   --- --- ---\n",
      "0 |   | X |   |\n",
      "   --- --- ---\n",
      "1 |   | X |   |\n",
      "   --- --- ---\n",
      "2 |   |   | O |\n",
      "   --- --- ---\n",
      "Player O, make your move:\n"
     ]
    }
   ],
   "source": [
    "def create_grid():\n",
    "    return [[' ' for _ in range(3)] for _ in range(3)]\n",
    "\n",
    "def draw_grid(grid):\n",
    "    print(\"    0   1   2\")\n",
    "    print(\"  \" + \" ---\" * 3)\n",
    "    for i, row in enumerate(grid):\n",
    "        row_str = \"{} |\".format(i) + \" {} | {} | {} |\".format(*row)\n",
    "        print(row_str)\n",
    "        if i < 2:\n",
    "            print(\"  \" + \" ---\" * 3)\n",
    "    print(\"  \" + \" ---\" * 3)\n",
    "\n",
    "def is_valid_move(grid, row, col):\n",
    "    return 0 <= row < 3 and 0 <= col < 3 and grid[row][col] == ' '\n",
    "\n",
    "def update_grid(grid, row, col, symbol):\n",
    "    if is_valid_move(grid, row, col):\n",
    "        grid[row][col] = symbol\n",
    "        return True\n",
    "    return False\n",
    "\n",
    "def play():\n",
    "    grid = create_grid()\n",
    "    current_player = \"X\"\n",
    "\n",
    "    while True:\n",
    "        draw_grid(grid)\n",
    "        print(f\"Player {current_player}, make your move:\")\n",
    "        try:\n",
    "            row, col = map(int, input(\"Enter row and column (comma separated): \").split(','))\n",
    "            if update_grid(grid, row, col, current_player):\n",
    "                current_player = \"O\" if current_player == \"X\" else \"X\"\n",
    "            else:\n",
    "                print(\"Invalid move. Try again.\")\n",
    "        except (ValueError, IndexError):\n",
    "            print(\"Invalid input. Please enter row and column as comma separated integers.\")\n",
    "\n",
    "play()"
   ]
  },
  {
   "cell_type": "code",
   "execution_count": 13,
   "metadata": {},
   "outputs": [],
   "source": [
    "def create_grid():\n",
    "    return [[' ' for _ in range(3)] for _ in range(3)]"
   ]
  },
  {
   "cell_type": "code",
   "execution_count": 19,
   "metadata": {},
   "outputs": [
    {
     "data": {
      "text/plain": [
       "[[' ', ' ', ' '], [' ', ' ', ' '], [' ', ' ', ' ']]"
      ]
     },
     "execution_count": 19,
     "metadata": {},
     "output_type": "execute_result"
    }
   ],
   "source": [
    "[[' ' for _ in range(3)] for _ in range(3)]"
   ]
  },
  {
   "cell_type": "code",
   "execution_count": 17,
   "metadata": {},
   "outputs": [],
   "source": [
    "def draw_grid(grid):\n",
    "    print(\"    0   1   2\")\n",
    "    print(\"  \" + \" ---\" * 3)\n",
    "    for i, row in enumerate(grid):\n",
    "        row_str = \"{} |\".format(i) + \" {} | {} | {} |\".format(*row)\n",
    "        print(row_str)\n",
    "        # if i < 2:\n",
    "        print(\"  \" + \" ---\" * 3)\n"
   ]
  },
  {
   "cell_type": "code",
   "execution_count": 6,
   "metadata": {},
   "outputs": [
    {
     "data": {
      "text/plain": [
       "[[' ', ' ', ' '], [' ', ' ', ' '], [' ', ' ', ' ']]"
      ]
     },
     "execution_count": 6,
     "metadata": {},
     "output_type": "execute_result"
    }
   ],
   "source": [
    "create_grid()"
   ]
  },
  {
   "cell_type": "code",
   "execution_count": 18,
   "metadata": {},
   "outputs": [
    {
     "name": "stdout",
     "output_type": "stream",
     "text": [
      "    0   1   2\n",
      "   --- --- ---\n",
      "0 |   |   |   |\n",
      "   --- --- ---\n",
      "1 |   |   |   |\n",
      "   --- --- ---\n",
      "2 |   |   |   |\n",
      "   --- --- ---\n"
     ]
    }
   ],
   "source": [
    "draw_grid(create_grid())"
   ]
  },
  {
   "cell_type": "code",
   "execution_count": null,
   "metadata": {},
   "outputs": [],
   "source": [
    "class grid():\n",
    "\n",
    "    \n",
    "\n",
    "    def create_grid():\n",
    "        return [[' ' for _ in range(3)] for _ in range(3)]\n",
    "\n",
    "    def draw_grid(grid):\n",
    "        print(\"    0   1   2\")\n",
    "        print(\"  \" + \" ---\" * 3)\n",
    "        for i, row in enumerate(grid):\n",
    "            row_str = \"{} |\".format(i) + \" {} | {} | {} |\".format(*row)\n",
    "            print(row_str)\n",
    "            if i < 2:\n",
    "                print(\"  \" + \" ---\" * 3)\n",
    "        print(\"  \" + \" ---\" * 3)    "
   ]
  },
  {
   "cell_type": "code",
   "execution_count": 24,
   "metadata": {},
   "outputs": [],
   "source": [
    "class Grid():\n",
    "\n",
    "    \"\"\"\n",
    "    This class is response for generate and print a grid, \n",
    "    receive the input matrix, generate output gride\n",
    "    \n",
    "    \"\"\"\n",
    "\n",
    "\n",
    "    def create_grid(self, matrix = None):\n",
    "\n",
    "        grid_info = [[' ' for space in range(3)] for row in range(3)]\n",
    "\n",
    "        if matrix is None:\n",
    "            self.grid = grid_info\n",
    "        else:\n",
    "\n",
    "            for row in range(len(matrix)):\n",
    "                for col in range(len(matrix[row])):\n",
    "                    val = matrix[row][col]\n",
    "                    if val == -1:\n",
    "                        grid_info[row][col] = \"X\"\n",
    "                    if val == 1:\n",
    "                        grid_info[row][col] = \"O\"\n",
    "\n",
    "            self.grid = grid_info\n",
    "\n",
    "    def draw_grid(self):\n",
    "        print(\"    0   1   2\")\n",
    "        print(\"  \" + \" ---\" * 3)\n",
    "        for i, row in enumerate(self.grid):\n",
    "            row_str = \"{} |\".format(i) + \" {} | {} | {} |\".format(*row)\n",
    "            print(row_str)\n",
    "            print(\"  \" + \" ---\" * 3)\n"
   ]
  },
  {
   "cell_type": "code",
   "execution_count": 25,
   "metadata": {},
   "outputs": [
    {
     "name": "stdout",
     "output_type": "stream",
     "text": [
      "    0   1   2\n",
      "   --- --- ---\n",
      "0 | O |   | X |\n",
      "   --- --- ---\n",
      "1 | X |   | O |\n",
      "   --- --- ---\n",
      "2 |   |   |   |\n",
      "   --- --- ---\n"
     ]
    }
   ],
   "source": [
    "test = Grid()\n",
    "\n",
    "a = [[1,0,-1],[-1,0,1],[0,0,0]]\n",
    "\n",
    "test.create_grid(a)\n",
    "test.draw_grid()"
   ]
  }
 ],
 "metadata": {
  "kernelspec": {
   "display_name": "venv",
   "language": "python",
   "name": "python3"
  },
  "language_info": {
   "codemirror_mode": {
    "name": "ipython",
    "version": 3
   },
   "file_extension": ".py",
   "mimetype": "text/x-python",
   "name": "python",
   "nbconvert_exporter": "python",
   "pygments_lexer": "ipython3",
   "version": "3.9.6"
  },
  "orig_nbformat": 4
 },
 "nbformat": 4,
 "nbformat_minor": 2
}
